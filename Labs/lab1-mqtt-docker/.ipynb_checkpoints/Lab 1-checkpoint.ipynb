{
 "cells": [
  {
   "cell_type": "code",
   "execution_count": 1,
   "metadata": {},
   "outputs": [],
   "source": [
    "import paho.mqtt.client as mqtt\n",
    "from datetime import datetime\n",
    "import time\n",
    "import json\n",
    "from random import randint"
   ]
  },
  {
   "cell_type": "code",
   "execution_count": 2,
   "metadata": {},
   "outputs": [],
   "source": [
    "def on_message(client, userdata, message):\n",
    "    print(\"message received \" ,str(message.payload.decode(\"utf-8\")))\n",
    "    print(\"message topic=\",message.topic)\n",
    "    print(\"message qos=\",message.qos)\n",
    "    print(\"message retain flag=\",message.retain)"
   ]
  },
  {
   "cell_type": "code",
   "execution_count": 3,
   "metadata": {
    "scrolled": false
   },
   "outputs": [
    {
     "name": "stdout",
     "output_type": "stream",
     "text": [
      "creating new instance\n",
      "connecting to broker\n",
      "Subscribing to topic testtopic\n",
      "Publishing message to topic Testtopic\n",
      "message received  Hi\n",
      "\n",
      "message topic= testtopic\n",
      "message qos= 2\n",
      "message retain flag= 1\n",
      "message received  {\"app_id\": \"hajo66\", \"dev_id\": \"node1\", \"port/channel\": 97, \"rssi\": 95, \"snr\": 89, \"sf\": \"SF7BW125\", \"C_F\": \"C\", \"temperature\": 34, \"time\": \"24-Nov-2020 18:02:23\", \"messgae id/counter\": 44}\n",
      "message topic= testtopic\n",
      "message qos= 2\n",
      "message retain flag= 0\n"
     ]
    }
   ],
   "source": [
    "inf = {\"app_id\":\"hajo66\",\"dev_id\":\"node1\",\"port/channel\":randint(0, 100),\n",
    "       \"rssi\":randint(0, 100),\"snr\":randint(0, 100),\n",
    "       \"sf\":\"SF7BW125\",\"C_F\":\"C\",\"temperature\":randint(0, 100),\n",
    "       \"time\": datetime.now().strftime(\"%d-%b-%Y %H:%M:%S\"),\n",
    "       \"messgae id/counter\":randint(0, 100)}\n",
    "dout = json.dumps(inf)\n",
    "din = dout\n",
    "infin = json.loads(din)\n",
    "#broker_address=\"192.168.1.184\"\n",
    "broker_address=\"broker.hivemq.com\"\n",
    "print(\"creating new instance\")\n",
    "client = mqtt.Client(\"P1\") #create new instance\n",
    "client.on_message=on_message #attach function to callback\n",
    "print(\"connecting to broker\")\n",
    "client.connect(broker_address) #connect to broker\n",
    "client.loop_start() #start the loop\n",
    "print(\"Subscribing to topic\",\"testtopic\")\n",
    "client.subscribe(\"testtopic\",2)\n",
    "print(\"Publishing message to topic\",\"Testtopic\")\n",
    "client.publish(\"testtopic\",din,2)\n",
    "time.sleep(4) # wait\n",
    "client.loop_stop() #stop the loop\n",
    "# client.loop_forever()"
   ]
  },
  {
   "cell_type": "code",
   "execution_count": null,
   "metadata": {},
   "outputs": [],
   "source": []
  },
  {
   "cell_type": "code",
   "execution_count": 8,
   "metadata": {},
   "outputs": [
    {
     "name": "stdout",
     "output_type": "stream",
     "text": [
      "connecting to broker  broker.hivemq.com\n",
      "subscribing \n",
      "publishing \n",
      "bytearray(b'header,,passwords.py,,,,,,,,,,,,,,,,,,,,,,,,,,,,,,,,,,,,,,,,,,,,,,,,,,,,,,,,,,,,,,,,,,,,,,,,,,,,,,,,,,,,,,,,,,,,,,,,,,,,,,,,,,,,,,,,,,,,,,,,,,,,,,,,,,,,,,,,,,,,,,,,,,,,,,,,,,,,,,,,,,,,,,,,,,,,,,,,,,,,')\n",
      "bytearray(b'end,,passwords.py,,537c25a60a1d252d096ca57827adc9ac,,,,,,,,,,,,,,,,,,,,,,,,,,,,,,,,,,,,,,,,,,,,,,,,,,,,,,,,,,,,,,,,,,,,,,,,,,,,,,,,,,,,,,,,,,,,,,,,,,,,,,,,,,,,,,,,,,,,,,,,,,,,,,,,,,,,,,,,,,,,,,,,,,,,,')\n",
      "took  0.0039370059967041016\n"
     ]
    }
   ],
   "source": [
    "#! python3.4\n",
    "###demo code provided by Steve Cope at www.steves-internet-guide.com\n",
    "##email steve@steves-internet-guide.com\n",
    "###Free to use for any purpose\n",
    "\"\"\"\n",
    "Send File Using MQTT\n",
    "\"\"\"\n",
    "import time\n",
    "import paho.mqtt.client as paho\n",
    "import hashlib\n",
    "broker=\"broker.hivemq.com\"\n",
    "#broker=\"iot.eclipse.org\"\n",
    "#broker=\"192.168.1.206\"\n",
    "#filename=\"DSCI0027.jpg\"\n",
    "filename=\"passwords.py\" #file to send\n",
    "topic=\"data/files\"\n",
    "qos=1\n",
    "data_block_size=2000\n",
    "fo=open(filename,\"rb\")\n",
    "fout=open(\"1out.txt\",\"wb\") #use a different filename\n",
    "# for outfile as I'm rnning sender and receiver together\n",
    "def process_message(msg):\n",
    "   \"\"\" This is the main receiver code\n",
    "   \"\"\"\n",
    "   if len(msg)==200: #is header or end\n",
    "      msg_in=msg.decode(\"utf-8\")\n",
    "      msg_in=msg_in.split(\",,\")\n",
    "      if msg_in[0]==\"end\": #is it really last packet?\n",
    "         in_hash_final=in_hash_md5.hexdigest()\n",
    "         if in_hash_final==msg_in[2]:\n",
    "            print(\"File copied OK -valid hash  \",in_hash_final)\n",
    "         else:\n",
    "            print(\"Bad file receive   \",in_hash_final)\n",
    "         return False\n",
    "      else:\n",
    "         if msg_in[0]!=\"header\":\n",
    "            in_hash_md5.update(msg)\n",
    "            return True\n",
    "         else:\n",
    "            return False\n",
    "   else:\n",
    "      in_hash_md5.update(msg)\n",
    "      return True\n",
    "#define callback\n",
    "def on_message(client, userdata, message):\n",
    "   time.sleep(1)\n",
    "   #print(\"received message =\",str(message.payload.decode(\"utf-8\")))\n",
    "   if process_message(message.payload):\n",
    "      fout.write(message.payload)\n",
    "\n",
    "def on_publish(client, userdata, mid):\n",
    "    #logging.debug(\"pub ack \"+ str(mid))\n",
    "    client.mid_value=mid\n",
    "    client.puback_flag=True  \n",
    "\n",
    "\n",
    "def wait_for(client,msgType,period=0.25,wait_time=40,running_loop=False):\n",
    "    client.running_loop=running_loop #if using external loop\n",
    "    wcount=0  \n",
    "    while True:\n",
    "        #print(\"waiting\"+ msgType)\n",
    "        if msgType==\"PUBACK\":\n",
    "            if client.on_publish:        \n",
    "                if client.puback_flag:\n",
    "                    return True\n",
    "     \n",
    "        if not client.running_loop:\n",
    "            client.loop(.01)  #check for messages manually\n",
    "        time.sleep(period)\n",
    "        #print(\"loop flag \",client.running_loop)\n",
    "        wcount+=1\n",
    "        if wcount>wait_time:\n",
    "            print(\"return from wait loop taken too long\")\n",
    "            return False\n",
    "    return True \n",
    "\n",
    "def send_header(filename):\n",
    "   header=\"header\"+\",,\"+filename+\",,\"\n",
    "   header=bytearray(header,\"utf-8\")\n",
    "   header.extend(b','*(200-len(header)))\n",
    "   print(header)\n",
    "   c_publish(client,topic,header,qos)\n",
    "\n",
    "def send_end(filename):\n",
    "   end=\"end\"+\",,\"+filename+\",,\"+out_hash_md5.hexdigest()\n",
    "   end=bytearray(end,\"utf-8\")\n",
    "   end.extend(b','*(200-len(end)))\n",
    "   print(end)\n",
    "   c_publish(client,topic,end,qos)\n",
    "\n",
    "def c_publish(client,topic,out_message,qos):\n",
    "   res,mid=client.publish(topic,out_message,qos)#publish\n",
    "   if res==0: #published ok\n",
    "      if wait_for(client,\"PUBACK\",running_loop=True):\n",
    "         if mid==client.mid_value:\n",
    "            print(\"match mid \",str(mid))\n",
    "            client.puback_flag=False #reset flag\n",
    "         else:\n",
    "            raise SystemExit(\"not got correct puback mid so quitting\")\n",
    "         \n",
    "      else:\n",
    "         raise SystemExit(\"not got puback so quitting\")\n",
    "client= paho.Client(\"client-001\")  #create client object client1.on_publish = on_publish                          #assign function to callback client1.connect(broker,port)                                 #establish connection client1.publish(\"data/files\",\"on\")  \n",
    "######\n",
    "client.on_message=on_message\n",
    "client.on_publish=on_publish\n",
    "client.puback_flag=False #use flag in publish ack\n",
    "client.mid_value=None\n",
    "#####\n",
    "print(\"connecting to broker \",broker)\n",
    "client.connect(broker)#connect\n",
    "client.loop_start() #start loop to process received messages\n",
    "print(\"subscribing \")\n",
    "client.subscribe(topic)#subscribe\n",
    "time.sleep(2)\n",
    "start=time.time()\n",
    "print(\"publishing \")\n",
    "send_header(filename)\n",
    "Run_flag=True\n",
    "count=0\n",
    "##hashes\n",
    "out_hash_md5 = hashlib.md5()\n",
    "in_hash_md5 = hashlib.md5()\n",
    "\n",
    "while Run_flag:\n",
    "   chunk=fo.read(data_block_size) # change if want smaller or larger data blcoks\n",
    "   if chunk:\n",
    "      out_hash_md5.update(chunk)\n",
    "      out_message=chunk\n",
    "      #print(\" length =\",type(out_message))\n",
    "      c_publish(client,topic,out_message,qos)\n",
    "         \n",
    "   else:\n",
    "      #send hash\n",
    "      out_message=out_hash_md5.hexdigest()\n",
    "      send_end(filename)\n",
    "      #print(\"out Message \",out_message)\n",
    "      res,mid=client.publish(\"data/files\",out_message,qos=1)#publish\n",
    "      Run_flag=False\n",
    "time_taken=time.time()-start\n",
    "print(\"took \",time_taken)\n",
    "time.sleep(4)\n",
    "client.disconnect() #disconnect\n",
    "client.loop_stop() #stop loop\n",
    "fout.close() #close files\n",
    "fo.close()"
   ]
  },
  {
   "cell_type": "code",
   "execution_count": 42,
   "metadata": {
    "scrolled": false
   },
   "outputs": [
    {
     "name": "stdout",
     "output_type": "stream",
     "text": [
      "Subscribing to topic testtopic\n",
      "Publishing message to topic Testtopic\n",
      "Connected to  broker.hivemq.com port:  1883\n",
      "Flags:  {'session present': 0} return code:  0\n",
      "testtopic b'test message'\n",
      "testtopic b'{\"app_id\": \"hajo66\", \"dev_id\": \"node1\", \"port/channel\": 58, \"rssi\": 89, \"snr\": 91, \"sf\": \"SF7BW125\", \"C_F\": \"C\", \"temperature\": 15, \"time\": \"24-Nov-2020 14:50:25\", \"messgae id/counter\": 68}'\n",
      "testtopic b'{\"app_id\": \"hajo66\", \"dev_id\": \"node1\", \"port/channel\": 58, \"rssi\": 89, \"snr\": 91, \"sf\": \"SF7BW125\", \"C_F\": \"C\", \"temperature\": 15, \"time\": \"24-Nov-2020 14:50:25\", \"messgae id/counter\": 68}'\n"
     ]
    }
   ],
   "source": [
    "import paho.mqtt.client as mqtt\n",
    "THE_BROKER = \"broker.hivemq.com\"\n",
    "THE_TOPIC = \"$SYS/#\"\n",
    "# The callback for when the client receives a CONNACK response from the server.\n",
    "def on_connect(client, userdata, flags, rc):\n",
    "    print(\"Connected to \", client._host, \"port: \", client._port)\n",
    "    print(\"Flags: \", flags, \"return code: \", rc)\n",
    "# Subscribing in on_connect() means that if we lose the connection and\n",
    "# reconnect then subscriptions will be renewed.\n",
    "    client.subscribe(THE_TOPIC,2)\n",
    "# The callback for when a PUBLISH message is received from the server.\n",
    "def on_message(client, userdata, msg):\n",
    "    print(msg.topic+\" \"+str(msg.payload))\n",
    "client = mqtt.Client()\n",
    "client.on_connect = on_connect\n",
    "client.on_message = on_message\n",
    "client.connect(THE_BROKER, 1883, 60)\n",
    "client.loop_start() #start the loop\n",
    "print(\"Subscribing to topic\",\"testtopic\")\n",
    "client.subscribe(\"testtopic\")\n",
    "print(\"Publishing message to topic\",\"Testtopic\")\n",
    "client.publish(\"testtopic\",din)\n",
    "time.sleep(10) # wait\n",
    "client.loop_stop() #stop the loop\n",
    "# Blocking call that processes network traffic, dispatches callbacks and\n",
    "# handles reconnecting.\n",
    "#client.loop_forever()"
   ]
  },
  {
   "cell_type": "code",
   "execution_count": null,
   "metadata": {},
   "outputs": [],
   "source": []
  },
  {
   "cell_type": "code",
   "execution_count": 41,
   "metadata": {},
   "outputs": [
    {
     "name": "stdout",
     "output_type": "stream",
     "text": [
      "data published \n",
      "\n"
     ]
    }
   ],
   "source": [
    "import paho.mqtt.client as paho\n",
    "broker=\"broker.hivemq.com\"\n",
    "port=1883\n",
    "def on_publish(client,userdata,result):             #create function for callback\n",
    "    print(\"data published \\n\")\n",
    "    pass\n",
    "client1= paho.Client(\"control1\")                           #create client object\n",
    "client1.on_publish = on_publish                          #assign function to callback\n",
    "client1.connect(broker,port)                                 #establish connection\n",
    "ret= client1.publish(\"house/bulb1\",\"on\")   "
   ]
  },
  {
   "cell_type": "code",
   "execution_count": 4,
   "metadata": {
    "scrolled": true
   },
   "outputs": [
    {
     "name": "stdout",
     "output_type": "stream",
     "text": [
      "Subscribing to topic testtopic\n",
      "Publishing message to topic Testtopic\n",
      "Connected with result code 0\n",
      "testtopic b'Hi\\n'\n",
      "testtopic b'{\"app_id\": \"hajo66\", \"dev_id\": \"node1\", \"port/channel\": 97, \"rssi\": 95, \"snr\": 89, \"sf\": \"SF7BW125\", \"C_F\": \"C\", \"temperature\": 34, \"time\": \"24-Nov-2020 18:02:23\", \"messgae id/counter\": 44}'\n"
     ]
    }
   ],
   "source": [
    "import json\n",
    "import sys\n",
    "import time\n",
    "import paho.mqtt.client as mqtt\n",
    "THE_BROKER = \"broker.hivemq.com\"\n",
    "THE_TOPIC = \"PMtest/jsonvalue\"\n",
    "# The callback for when the client receives a CONNACK response from the server.\n",
    "def on_connect(client, userdata, flags, rc):\n",
    "    print(\"Connected with result code \"+str(rc))\n",
    "# The callback for when a PUBLISH message is received from the server.\n",
    "def on_message(client, userdata, msg):\n",
    "    print(msg.topic+\" \"+str(msg.payload))\n",
    "    themsg = json.loads(str(msg.payload))\n",
    "    print(\"Sensor \"+str(themsg['Sensor'])+\" got value \"+\n",
    "          str(themsg['Value'])+\" \"+themsg['C_F']+ \" at time \"+str(themsg['Time']))\n",
    "    \n",
    "def on_subscribe(client, userdata, mid, granted_qos):\n",
    "    print(\"Subscribed: \"+str(mid)+\" \"+str(granted_qos)) \n",
    "    \n",
    "client = mqtt.Client()\n",
    "client.on_connect = on_connect\n",
    "client.on_message = on_message\n",
    "client.connect(THE_BROKER, 1883, 60)\n",
    "client.loop_start() #start the loop\n",
    "print(\"Subscribing to topic\",\"testtopic\")\n",
    "client.subscribe(\"testtopic\",2)\n",
    "print(\"Publishing message to topic\",\"Testtopic\")\n",
    "client.publish(\"testtopic\",din,2)\n",
    "time.sleep(10) # wait\n",
    " #stop the loop\n",
    "# print(\"a\")\n",
    "# client.on_subscribe = on_subscribe\n",
    "# client.connect(THE_BROKER, 1883, 60)\n",
    "# client.subscribe(\"testtopic\", qos=2)\n",
    "\n",
    "client.loop_stop()\n",
    "#client.subscribe(THE_TOPIC)\n",
    "#client.loop_forever()"
   ]
  },
  {
   "cell_type": "code",
   "execution_count": null,
   "metadata": {
    "scrolled": true
   },
   "outputs": [
    {
     "name": "stdout",
     "output_type": "stream",
     "text": [
      "Connected to  broker.hivemq.com port:  1883\n",
      "Subscribed:  1 granted QoS:  (2,)\n",
      "testtopic 2 b'Hi\\n'\n",
      "testtopic 2 b'Hi\\n'\n",
      "testtopic 2 b'Hi\\n'\n",
      "testtopic 1 b'Hi\\n'\n"
     ]
    }
   ],
   "source": [
    "import time\n",
    "import paho.mqtt.client as mqtt\n",
    "THE_BROKER = \"broker.hivemq.com\"\n",
    "THE_TOPIC = \"testtopic\"\n",
    "def on_connect(mqttc, obj, flags, rc):\n",
    "    print(\"Connected to \", mqttc._host, \"port: \", mqttc._port)\n",
    "    mqttc.subscribe(THE_TOPIC, 2)\n",
    "def on_message(mqttc, obj, msg):\n",
    "    global msg_counter\n",
    "    print(msg.topic+\" \"+str(msg.qos)+\" \"+str(msg.payload))\n",
    "    msg_counter+=1\n",
    "def on_subscribe(mqttc, obj, mid, granted_qos):\n",
    "    print(\"Subscribed: \", mid, \"granted QoS: \", granted_qos)\n",
    "    print(\"Messages receving\")\n",
    "mqttc = mqtt.Client()\n",
    "mqttc.on_message = on_message\n",
    "mqttc.on_connect = on_connect\n",
    "mqttc.on_subscribe = on_subscribe\n",
    "mqttc.connect(THE_BROKER, keepalive=60)\n",
    "msg_counter = 0\n",
    "mqttc.loop_start()\n",
    "while msg_counter < 10:\n",
    "    time.sleep(0.1)\n",
    "mqttc.loop_stop()\n",
    "print(msg_counter)"
   ]
  },
  {
   "cell_type": "code",
   "execution_count": null,
   "metadata": {},
   "outputs": [],
   "source": []
  },
  {
   "cell_type": "code",
   "execution_count": null,
   "metadata": {},
   "outputs": [],
   "source": []
  },
  {
   "cell_type": "code",
   "execution_count": null,
   "metadata": {},
   "outputs": [],
   "source": []
  },
  {
   "cell_type": "code",
   "execution_count": null,
   "metadata": {},
   "outputs": [],
   "source": []
  }
 ],
 "metadata": {
  "kernelspec": {
   "display_name": "Python 3",
   "language": "python",
   "name": "python3"
  },
  "language_info": {
   "codemirror_mode": {
    "name": "ipython",
    "version": 3
   },
   "file_extension": ".py",
   "mimetype": "text/x-python",
   "name": "python",
   "nbconvert_exporter": "python",
   "pygments_lexer": "ipython3",
   "version": "3.8.3"
  }
 },
 "nbformat": 4,
 "nbformat_minor": 4
}
